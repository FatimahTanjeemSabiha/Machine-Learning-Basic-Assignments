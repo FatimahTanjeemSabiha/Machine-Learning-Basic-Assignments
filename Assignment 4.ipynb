{
  "cells": [
    {
      "cell_type": "code",
      "execution_count": null,
      "id": "a2993d21",
      "metadata": {
        "id": "a2993d21"
      },
      "outputs": [],
      "source": [
        "# Importing libraries\n",
        "import pandas as pd\n",
        "import numpy as np\n",
        "import seaborn as sns\n",
        "import matplotlib.pyplot as plt\n",
        "from sklearn.model_selection import train_test_split\n",
        "from sklearn.linear_model import LogisticRegression\n",
        "from sklearn.neighbors import KNeighborsClassifier\n",
        "from sklearn.tree import DecisionTreeClassifier\n",
        "from sklearn.svm import SVC\n",
        "from sklearn.metrics import accuracy_score"
      ]
    },
    {
      "cell_type": "code",
      "execution_count": null,
      "id": "1883ffc6",
      "metadata": {
        "id": "1883ffc6"
      },
      "outputs": [],
      "source": [
        "# Load the dataset\n",
        "fts = pd.read_csv('happydata.csv')"
      ]
    },
    {
      "cell_type": "code",
      "execution_count": null,
      "id": "7574f403",
      "metadata": {
        "id": "7574f403",
        "outputId": "078c7b04-92b9-4cb5-95ec-244cc0ac7617",
        "scrolled": true
      },
      "outputs": [
        {
          "name": "stdout",
          "output_type": "stream",
          "text": [
            "<class 'pandas.core.frame.DataFrame'>\n",
            "RangeIndex: 143 entries, 0 to 142\n",
            "Data columns (total 7 columns):\n",
            " #   Column         Non-Null Count  Dtype\n",
            "---  ------         --------------  -----\n",
            " 0   infoavail      143 non-null    int64\n",
            " 1   housecost      143 non-null    int64\n",
            " 2   schoolquality  143 non-null    int64\n",
            " 3   policetrust    143 non-null    int64\n",
            " 4   streetquality  143 non-null    int64\n",
            " 5   ëvents         143 non-null    int64\n",
            " 6   happy          143 non-null    int64\n",
            "dtypes: int64(7)\n",
            "memory usage: 7.9 KB\n"
          ]
        }
      ],
      "source": [
        "# Checking for data types of columns\n",
        "fts.info()"
      ]
    },
    {
      "cell_type": "code",
      "execution_count": null,
      "id": "33a46f01",
      "metadata": {
        "id": "33a46f01",
        "outputId": "a1737adb-14bf-44d4-894b-9614ceff377e"
      },
      "outputs": [
        {
          "data": {
            "text/plain": [
              "infoavail        0\n",
              "housecost        0\n",
              "schoolquality    0\n",
              "policetrust      0\n",
              "streetquality    0\n",
              "ëvents           0\n",
              "happy            0\n",
              "dtype: int64"
            ]
          },
          "execution_count": 5,
          "metadata": {},
          "output_type": "execute_result"
        }
      ],
      "source": [
        "# Checking for Null values\n",
        "fts.isnull().sum()"
      ]
    },
    {
      "cell_type": "code",
      "execution_count": null,
      "id": "dc457a45",
      "metadata": {
        "id": "dc457a45"
      },
      "outputs": [],
      "source": [
        "# Split the data into training and testing sets\n",
        "X = fts[['infoavail','housecost','schoolquality','policetrust','streetquality','ëvents']]\n",
        "y = fts['happy'].to_numpy()\n",
        "X_train, X_test, y_train, y_test = train_test_split(X, y, test_size=0.2, random_state=0)"
      ]
    },
    {
      "cell_type": "code",
      "execution_count": null,
      "id": "a4c0fe54",
      "metadata": {
        "id": "a4c0fe54",
        "outputId": "91d7c1f7-31fa-489f-ee0f-20c547f28346"
      },
      "outputs": [
        {
          "data": {
            "text/plain": [
              "0.5517241379310345"
            ]
          },
          "execution_count": 7,
          "metadata": {},
          "output_type": "execute_result"
        }
      ],
      "source": [
        "# Apply KNN\n",
        "knn = KNeighborsClassifier()\n",
        "knn.fit(X_train, y_train)\n",
        "knn_pred = knn.predict(X_test)\n",
        "knn_accuracy = accuracy_score(y_test, knn_pred)"
      ]
    },
    {
      "cell_type": "code",
      "execution_count": null,
      "id": "d36e8e00",
      "metadata": {
        "id": "d36e8e00",
        "outputId": "c8f21f0b-d576-44e3-832a-7ddcd2eed903"
      },
      "outputs": [
        {
          "data": {
            "text/plain": [
              "0.41379310344827586"
            ]
          },
          "execution_count": 8,
          "metadata": {},
          "output_type": "execute_result"
        }
      ],
      "source": [
        "# Apply Logistic Regression\n",
        "logreg = LogisticRegression()\n",
        "logreg.fit(X_train,y_train)\n",
        "logreg_pred = logreg.predict(X_test)\n",
        "logreg_accuracy = accuracy_score(y_test, logreg_pred)\n"
      ]
    },
    {
      "cell_type": "code",
      "execution_count": null,
      "id": "99ba9c97",
      "metadata": {
        "id": "99ba9c97",
        "outputId": "bef9120a-f1bd-447a-dd7f-5a3dcfe2352a"
      },
      "outputs": [
        {
          "data": {
            "text/plain": [
              "0.6206896551724138"
            ]
          },
          "execution_count": 9,
          "metadata": {},
          "output_type": "execute_result"
        }
      ],
      "source": [
        "# Apply Decision Tree\n",
        "dt = DecisionTreeClassifier()\n",
        "dt.fit(X_train,y_train)\n",
        "dt_pred = dt.predict(X_test)\n",
        "dt_accuracy = accuracy_score(y_test, dt_pred)\n"
      ]
    },
    {
      "cell_type": "code",
      "execution_count": null,
      "id": "68564545",
      "metadata": {
        "id": "68564545",
        "outputId": "5c99922f-810c-43a8-92bf-c3a6dda281cb"
      },
      "outputs": [
        {
          "data": {
            "text/plain": [
              "0.4827586206896552"
            ]
          },
          "execution_count": 10,
          "metadata": {},
          "output_type": "execute_result"
        }
      ],
      "source": [
        "# Apply SVM\n",
        "svm = SVC()\n",
        "svm.fit(X_train, y_train)\n",
        "svm_pred = svm.predict(X_test)\n",
        "svm_accuracy = accuracy_score(y_test, svm_pred)\n"
      ]
    },
    {
      "cell_type": "code",
      "execution_count": null,
      "id": "6a1aac35",
      "metadata": {
        "id": "6a1aac35"
      },
      "outputs": [],
      "source": [
        "# Print accuracy metrics\n",
        "print(\"Logistic Regression Accuracy:\", logreg_accuracy)\n",
        "print(\"KNN Accuracy:\", knn_accuracy)\n",
        "print(\"Decision Tree Accuracy:\", dt_accuracy)\n",
        "print(\"SVM Accuracy:\", svm_accuracy)\n",
        "print(\"Decision Tree has the highest accuracy metrics\")"
      ]
    }
  ],
  "metadata": {
    "colab": {
      "provenance": []
    },
    "kernelspec": {
      "display_name": "Python 3 (ipykernel)",
      "language": "python",
      "name": "python3"
    },
    "language_info": {
      "codemirror_mode": {
        "name": "ipython",
        "version": 3
      },
      "file_extension": ".py",
      "mimetype": "text/x-python",
      "name": "python",
      "nbconvert_exporter": "python",
      "pygments_lexer": "ipython3",
      "version": "3.10.9"
    }
  },
  "nbformat": 4,
  "nbformat_minor": 5
}
